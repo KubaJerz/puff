{
 "cells": [
  {
   "cell_type": "code",
   "execution_count": 1,
   "id": "dcb7c05f",
   "metadata": {},
   "outputs": [],
   "source": [
    "import sys\n",
    "\n",
    "sys.path.insert(1, '/home/kuba/projects/puff/paper00/src/train_scripts')\n",
    "from experiment_builder import ExperimentBuilder\n",
    "from expt_runner import Expt_Runner"
   ]
  },
  {
   "cell_type": "code",
   "execution_count": 2,
   "id": "8f9cb997",
   "metadata": {},
   "outputs": [
    {
     "name": "stdout",
     "output_type": "stream",
     "text": [
      "Number of GPUs available: 2\n"
     ]
    }
   ],
   "source": [
    "expt_builder = ExperimentBuilder(toml_file_path='/home/kuba/projects/puff/paper00/experiments/01/expt.toml')\n",
    "expt_builder.build_experiment_runs()\n",
    "runner = Expt_Runner(expt_dir=expt_builder.get_experiment_dir(), sub_runs_list=expt_builder.get_sub_runs_list(), run_on_gpu=expt_builder.get_run_on_gpu())\n"
   ]
  },
  {
   "cell_type": "code",
   "execution_count": 3,
   "id": "d0ab816d",
   "metadata": {},
   "outputs": [
    {
     "name": "stderr",
     "output_type": "stream",
     "text": [
      "Device:cuda:0 curr Loss: 0.1861, curr Dev Loss: 0.2398:  54%|█████▍    | 54/100 [03:14<02:40,  3.50s/it]"
     ]
    },
    {
     "name": "stdout",
     "output_type": "stream",
     "text": [
      "cuda:0 Early stopping at epoch 55\n"
     ]
    },
    {
     "name": "stderr",
     "output_type": "stream",
     "text": [
      "Device:cuda:0 curr Loss: 0.1861, curr Dev Loss: 0.2398:  54%|█████▍    | 54/100 [03:15<02:46,  3.61s/it]\n",
      "Device:cuda:1 curr Loss: 0.2255, curr Dev Loss: 0.3036:  79%|███████▉  | 79/100 [06:57<01:48,  5.15s/it]"
     ]
    },
    {
     "name": "stdout",
     "output_type": "stream",
     "text": [
      "cuda:1 Early stopping at epoch 80\n"
     ]
    },
    {
     "name": "stderr",
     "output_type": "stream",
     "text": [
      "Device:cuda:1 curr Loss: 0.2255, curr Dev Loss: 0.3036:  79%|███████▉  | 79/100 [06:57<01:51,  5.29s/it]\n",
      "Device:cuda:0 curr Loss: 0.2250, curr Dev Loss: 0.3034:  35%|███▌      | 35/100 [03:04<05:39,  5.22s/it]"
     ]
    },
    {
     "name": "stdout",
     "output_type": "stream",
     "text": [
      "cuda:1 Early stopping at epoch 25\n"
     ]
    },
    {
     "name": "stderr",
     "output_type": "stream",
     "text": [
      "Device:cuda:1 curr Loss: 0.6779, curr Dev Loss: 0.7348:  24%|██▍       | 24/100 [03:08<09:55,  7.84s/it]\n",
      "Device:cuda:0 curr Loss: 0.2165, curr Dev Loss: 0.2866:  58%|█████▊    | 58/100 [05:08<03:36,  5.14s/it]"
     ]
    },
    {
     "name": "stdout",
     "output_type": "stream",
     "text": [
      "cuda:0 Early stopping at epoch 59\n"
     ]
    },
    {
     "name": "stderr",
     "output_type": "stream",
     "text": [
      "Device:cuda:0 curr Loss: 0.2165, curr Dev Loss: 0.2866:  58%|█████▊    | 58/100 [05:08<03:43,  5.32s/it]\n",
      "Device:cuda:1 curr Loss: 0.0963, curr Dev Loss: 0.1719: 100%|██████████| 100/100 [05:51<00:00,  3.52s/it]\n",
      "Device:cuda:0 curr Loss: 0.2768, curr Dev Loss: 0.3434: 100%|██████████| 100/100 [12:15<00:00,  7.36s/it]\n",
      "Device:cuda:0 curr Loss: 0.1170, curr Dev Loss: 0.1780: 100%|██████████| 100/100 [05:52<00:00,  3.53s/it]\n",
      "Device:cuda:1 curr Loss: 0.0750, curr Dev Loss: 0.1769: 100%|██████████| 100/100 [06:53<00:00,  4.13s/it]\n",
      "Device:cuda:0 curr Loss: 0.1249, curr Dev Loss: 0.1867: 100%|██████████| 100/100 [06:54<00:00,  4.14s/it]\n",
      "Device:cuda:1 curr Loss: 0.1183, curr Dev Loss: 0.1916: 100%|██████████| 100/100 [06:54<00:00,  4.14s/it]\n",
      "Device:cuda:0 curr Loss: 0.2443, curr Dev Loss: 0.3126:  27%|██▋       | 27/100 [02:28<06:20,  5.21s/it]"
     ]
    },
    {
     "name": "stdout",
     "output_type": "stream",
     "text": [
      "cuda:0 Early stopping at epoch 28\n"
     ]
    },
    {
     "name": "stderr",
     "output_type": "stream",
     "text": [
      "Device:cuda:0 curr Loss: 0.2443, curr Dev Loss: 0.3126:  27%|██▋       | 27/100 [02:28<06:41,  5.49s/it]\n",
      "Device:cuda:1 curr Loss: 0.0996, curr Dev Loss: 0.1765: 100%|██████████| 100/100 [05:52<00:00,  3.52s/it]\n",
      "Device:cuda:0 curr Loss: 0.1076, curr Dev Loss: 0.1769: 100%|██████████| 100/100 [05:53<00:00,  3.53s/it]\n",
      "Device:cuda:1 curr Loss: 0.0960, curr Dev Loss: 0.1664: 100%|██████████| 100/100 [05:53<00:00,  3.53s/it]\n",
      "Device:cuda:0 curr Loss: 0.1459, curr Dev Loss: 0.2161:  71%|███████   | 71/100 [04:13<01:42,  3.52s/it]"
     ]
    },
    {
     "name": "stdout",
     "output_type": "stream",
     "text": [
      "cuda:0 Early stopping at epoch 72\n"
     ]
    },
    {
     "name": "stderr",
     "output_type": "stream",
     "text": [
      "Device:cuda:0 curr Loss: 0.1459, curr Dev Loss: 0.2161:  71%|███████   | 71/100 [04:14<01:43,  3.58s/it]\n"
     ]
    }
   ],
   "source": [
    "runner.run()"
   ]
  }
 ],
 "metadata": {
  "kernelspec": {
   "display_name": "base",
   "language": "python",
   "name": "python3"
  },
  "language_info": {
   "codemirror_mode": {
    "name": "ipython",
    "version": 3
   },
   "file_extension": ".py",
   "mimetype": "text/x-python",
   "name": "python",
   "nbconvert_exporter": "python",
   "pygments_lexer": "ipython3",
   "version": "3.12.11"
  }
 },
 "nbformat": 4,
 "nbformat_minor": 5
}
