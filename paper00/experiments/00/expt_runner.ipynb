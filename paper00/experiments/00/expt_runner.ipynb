{
 "cells": [
  {
   "cell_type": "code",
   "execution_count": 1,
   "id": "dcb7c05f",
   "metadata": {},
   "outputs": [],
   "source": [
    "import sys\n",
    "\n",
    "sys.path.insert(1, '/home/kuba/projects/puff/paper00/src/train_scripts')\n",
    "from experiment_builder import ExperimentBuilder\n",
    "from expt_runner import Expt_Runner"
   ]
  },
  {
   "cell_type": "code",
   "execution_count": 2,
   "id": "8f9cb997",
   "metadata": {},
   "outputs": [
    {
     "name": "stdout",
     "output_type": "stream",
     "text": [
      "Number of GPUs available: 2\n"
     ]
    }
   ],
   "source": [
    "expt_builder = ExperimentBuilder(toml_file_path='/home/kuba/projects/puff/paper00/experiments/00/expt.toml')\n",
    "expt_builder.build_experiment_runs()\n",
    "runner = Expt_Runner(expt_dir=expt_builder.get_experiment_dir(), sub_runs_list=expt_builder.get_sub_runs_list(), run_on_gpu=expt_builder.get_run_on_gpu())\n"
   ]
  },
  {
   "cell_type": "code",
   "execution_count": 3,
   "id": "d0ab816d",
   "metadata": {},
   "outputs": [
    {
     "name": "stderr",
     "output_type": "stream",
     "text": [
      "Device:cuda:0 curr Loss: 0.2052, curr Dev Loss: 0.6142:  25%|██▌       | 25/100 [01:29<04:11,  3.36s/it]"
     ]
    },
    {
     "name": "stdout",
     "output_type": "stream",
     "text": [
      "cuda:0 Early stopping at epoch 26\n"
     ]
    },
    {
     "name": "stderr",
     "output_type": "stream",
     "text": [
      "Device:cuda:0 curr Loss: 0.2052, curr Dev Loss: 0.6142:  25%|██▌       | 25/100 [01:29<04:29,  3.59s/it]\n",
      "Device:cuda:1 curr Loss: 0.2933, curr Dev Loss: 1.0673:  31%|███       | 31/100 [03:02<06:30,  5.66s/it]"
     ]
    },
    {
     "name": "stdout",
     "output_type": "stream",
     "text": [
      "cuda:1 Early stopping at epoch 32\n"
     ]
    },
    {
     "name": "stderr",
     "output_type": "stream",
     "text": [
      "Device:cuda:1 curr Loss: 0.2933, curr Dev Loss: 1.0673:  31%|███       | 31/100 [03:02<06:46,  5.90s/it]\n",
      "Device:cuda:0 curr Loss: 0.3887, curr Dev Loss: 0.9372:  17%|█▋        | 17/100 [03:14<14:50, 10.73s/it]"
     ]
    },
    {
     "name": "stdout",
     "output_type": "stream",
     "text": [
      "cuda:0 Early stopping at epoch 18\n"
     ]
    },
    {
     "name": "stderr",
     "output_type": "stream",
     "text": [
      "Device:cuda:0 curr Loss: 0.3887, curr Dev Loss: 0.9372:  17%|█▋        | 17/100 [03:15<15:52, 11.47s/it]\n",
      "Device:cuda:1 curr Loss: 0.7175, curr Dev Loss: 1.3711:  18%|█▊        | 18/100 [03:30<15:09, 11.09s/it]"
     ]
    },
    {
     "name": "stdout",
     "output_type": "stream",
     "text": [
      "cuda:1 Early stopping at epoch 19\n"
     ]
    },
    {
     "name": "stderr",
     "output_type": "stream",
     "text": [
      "Device:cuda:1 curr Loss: 0.7175, curr Dev Loss: 1.3711:  18%|█▊        | 18/100 [03:30<15:59, 11.70s/it]\n",
      "Device:cuda:0 curr Loss: 0.1911, curr Dev Loss: 0.6480:  20%|██        | 20/100 [01:13<04:36,  3.45s/it]"
     ]
    },
    {
     "name": "stdout",
     "output_type": "stream",
     "text": [
      "cuda:0 Early stopping at epoch 21\n"
     ]
    },
    {
     "name": "stderr",
     "output_type": "stream",
     "text": [
      "Device:cuda:0 curr Loss: 0.1911, curr Dev Loss: 0.6480:  20%|██        | 20/100 [01:14<04:56,  3.71s/it]\n",
      "Device:cuda:1 curr Loss: 0.6437, curr Dev Loss: 1.2011:  20%|██        | 20/100 [03:49<14:25, 10.82s/it]"
     ]
    },
    {
     "name": "stdout",
     "output_type": "stream",
     "text": [
      "cuda:1 Early stopping at epoch 21\n"
     ]
    },
    {
     "name": "stderr",
     "output_type": "stream",
     "text": [
      "Device:cuda:1 curr Loss: 0.6437, curr Dev Loss: 1.2011:  20%|██        | 20/100 [03:50<15:20, 11.51s/it]\n",
      "Device:cuda:0 curr Loss: 0.3468, curr Dev Loss: 1.1076:  11%|█         | 11/100 [01:08<08:19,  5.61s/it]"
     ]
    },
    {
     "name": "stdout",
     "output_type": "stream",
     "text": [
      "cuda:0 Early stopping at epoch 12\n"
     ]
    },
    {
     "name": "stderr",
     "output_type": "stream",
     "text": [
      "Device:cuda:0 curr Loss: 0.3468, curr Dev Loss: 1.1076:  11%|█         | 11/100 [01:08<09:15,  6.24s/it]\n",
      "Device:cuda:1 curr Loss: 0.1985, curr Dev Loss: 0.7833:  23%|██▎       | 23/100 [01:22<04:19,  3.37s/it]"
     ]
    },
    {
     "name": "stdout",
     "output_type": "stream",
     "text": [
      "cuda:1 Early stopping at epoch 24\n"
     ]
    },
    {
     "name": "stderr",
     "output_type": "stream",
     "text": [
      "Device:cuda:1 curr Loss: 0.1985, curr Dev Loss: 0.7833:  23%|██▎       | 23/100 [01:22<04:37,  3.60s/it]\n",
      "Device:cuda:1 curr Loss: 0.1811, curr Dev Loss: 0.7617:  25%|██▌       | 25/100 [01:11<03:22,  2.70s/it]"
     ]
    },
    {
     "name": "stdout",
     "output_type": "stream",
     "text": [
      "cuda:1 Early stopping at epoch 26\n"
     ]
    },
    {
     "name": "stderr",
     "output_type": "stream",
     "text": [
      "Device:cuda:1 curr Loss: 0.1811, curr Dev Loss: 0.7617:  25%|██▌       | 25/100 [01:12<03:36,  2.89s/it]\n",
      "Device:cuda:0 curr Loss: 0.2030, curr Dev Loss: 0.7766:  35%|███▌      | 35/100 [02:04<03:39,  3.37s/it]"
     ]
    },
    {
     "name": "stdout",
     "output_type": "stream",
     "text": [
      "cuda:0 Early stopping at epoch 36\n"
     ]
    },
    {
     "name": "stderr",
     "output_type": "stream",
     "text": [
      "Device:cuda:0 curr Loss: 0.2030, curr Dev Loss: 0.7766:  35%|███▌      | 35/100 [02:04<03:50,  3.55s/it]\n",
      "Device:cuda:1 curr Loss: 0.2257, curr Dev Loss: 0.6749:  14%|█▍        | 14/100 [00:48<04:50,  3.38s/it]"
     ]
    },
    {
     "name": "stdout",
     "output_type": "stream",
     "text": [
      "cuda:0 Early stopping at epoch 14\n"
     ]
    },
    {
     "name": "stderr",
     "output_type": "stream",
     "text": [
      "Device:cuda:0 curr Loss: 0.2318, curr Dev Loss: 0.7018:  13%|█▎        | 13/100 [00:49<05:28,  3.78s/it]\n",
      "Device:cuda:1 curr Loss: 0.2152, curr Dev Loss: 0.7717:  15%|█▌        | 15/100 [00:55<04:46,  3.37s/it]"
     ]
    },
    {
     "name": "stdout",
     "output_type": "stream",
     "text": [
      "cuda:1 Early stopping at epoch 16\n"
     ]
    },
    {
     "name": "stderr",
     "output_type": "stream",
     "text": [
      "Device:cuda:1 curr Loss: 0.2152, curr Dev Loss: 0.7717:  15%|█▌        | 15/100 [00:55<05:16,  3.72s/it]\n",
      "Device:cuda:0 curr Loss: 0.4486, curr Dev Loss: 0.9030:  18%|█▊        | 18/100 [01:49<07:50,  5.73s/it]"
     ]
    },
    {
     "name": "stdout",
     "output_type": "stream",
     "text": [
      "cuda:0 Early stopping at epoch 19\n"
     ]
    },
    {
     "name": "stderr",
     "output_type": "stream",
     "text": [
      "Device:cuda:0 curr Loss: 0.4486, curr Dev Loss: 0.9030:  18%|█▊        | 18/100 [01:50<08:22,  6.12s/it]\n",
      "Device:cuda:1 curr Loss: 0.3625, curr Dev Loss: 1.1644:  18%|█▊        | 18/100 [03:26<14:48, 10.84s/it]"
     ]
    },
    {
     "name": "stdout",
     "output_type": "stream",
     "text": [
      "cuda:1 Early stopping at epoch 19\n"
     ]
    },
    {
     "name": "stderr",
     "output_type": "stream",
     "text": [
      "Device:cuda:1 curr Loss: 0.3625, curr Dev Loss: 1.1644:  18%|█▊        | 18/100 [03:26<15:39, 11.46s/it]\n",
      "Device:cuda:0 curr Loss: 0.1930, curr Dev Loss: 0.8619:  16%|█▌        | 16/100 [00:47<03:46,  2.69s/it]"
     ]
    },
    {
     "name": "stdout",
     "output_type": "stream",
     "text": [
      "cuda:0 Early stopping at epoch 17\n"
     ]
    },
    {
     "name": "stderr",
     "output_type": "stream",
     "text": [
      "Device:cuda:0 curr Loss: 0.1930, curr Dev Loss: 0.8619:  16%|█▌        | 16/100 [00:47<04:11,  3.00s/it]\n"
     ]
    }
   ],
   "source": [
    "runner.run()"
   ]
  }
 ],
 "metadata": {
  "kernelspec": {
   "display_name": "base",
   "language": "python",
   "name": "python3"
  },
  "language_info": {
   "codemirror_mode": {
    "name": "ipython",
    "version": 3
   },
   "file_extension": ".py",
   "mimetype": "text/x-python",
   "name": "python",
   "nbconvert_exporter": "python",
   "pygments_lexer": "ipython3",
   "version": "3.12.11"
  }
 },
 "nbformat": 4,
 "nbformat_minor": 5
}
