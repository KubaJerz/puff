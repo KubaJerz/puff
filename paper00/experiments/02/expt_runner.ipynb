{
 "cells": [
  {
   "cell_type": "code",
   "execution_count": 1,
   "id": "dcb7c05f",
   "metadata": {},
   "outputs": [],
   "source": [
    "import sys\n",
    "import time\n",
    "\n",
    "sys.path.insert(1, '/home/kuba/projects/puff/paper00/src/train_scripts')\n",
    "from experiment_builder import ExperimentBuilder\n",
    "from expt_runner import Expt_Runner"
   ]
  },
  {
   "cell_type": "code",
   "execution_count": 2,
   "id": "8f9cb997",
   "metadata": {},
   "outputs": [
    {
     "name": "stdout",
     "output_type": "stream",
     "text": [
      "Number of GPUs available: 2\n"
     ]
    }
   ],
   "source": [
    "expt_builder = ExperimentBuilder(toml_file_path='/home/kuba/projects/puff/paper00/experiments/02/expt.toml')\n",
    "expt_builder.build_experiment_runs()\n",
    "runner = Expt_Runner(expt_dir=expt_builder.get_experiment_dir(), sub_runs_list=expt_builder.get_sub_runs_list(), run_on_gpu=expt_builder.get_run_on_gpu())\n"
   ]
  },
  {
   "cell_type": "code",
   "execution_count": 3,
   "id": "d0ab816d",
   "metadata": {},
   "outputs": [
    {
     "name": "stderr",
     "output_type": "stream",
     "text": [
      "/home/kuba/projects/puff/paper00/src/train_scripts/expt_runner.py:149: FutureWarning: You are using `torch.load` with `weights_only=False` (the current default value), which uses the default pickle module implicitly. It is possible to construct malicious pickle data which will execute arbitrary code during unpickling (See https://github.com/pytorch/pytorch/blob/main/SECURITY.md#untrusted-models for more details). In a future release, the default value for `weights_only` will be flipped to `True`. This limits the functions that could be executed during unpickling. Arbitrary objects will no longer be allowed to be loaded via this mode unless they are explicitly allowlisted by the user via `torch.serialization.add_safe_globals`. We recommend you start setting `weights_only=True` for any use case where you don't have full control of the loaded file. Please open an issue on GitHub for any issues related to this experimental feature.\n",
      "  X, y  = torch.load(os.path.join(path, f\"{type}.pt\"))\n",
      "Device:cuda:1 curr Loss: 0.2133, curr Dev Loss: 0.2739:  42%|████▏     | 42/100 [03:07<04:19,  4.47s/it]\n"
     ]
    },
    {
     "name": "stdout",
     "output_type": "stream",
     "text": [
      "cuda:1 Early stopping at epoch 43\n"
     ]
    },
    {
     "name": "stderr",
     "output_type": "stream",
     "text": [
      "Device:cuda:0 curr Loss: 0.1679, curr Dev Loss: 0.2667:  79%|███████▉  | 79/100 [05:47<01:32,  4.40s/it]\n"
     ]
    },
    {
     "name": "stdout",
     "output_type": "stream",
     "text": [
      "cuda:0 Early stopping at epoch 80\n"
     ]
    },
    {
     "name": "stderr",
     "output_type": "stream",
     "text": [
      "Device:cuda:0 curr Loss: 0.2048, curr Dev Loss: 0.2669:  41%|████      | 41/100 [03:03<04:23,  4.47s/it]\n"
     ]
    },
    {
     "name": "stdout",
     "output_type": "stream",
     "text": [
      "cuda:0 Early stopping at epoch 42\n"
     ]
    },
    {
     "name": "stderr",
     "output_type": "stream",
     "text": [
      "Device:cuda:1 curr Loss: 0.1843, curr Dev Loss: 0.2648:  58%|█████▊    | 58/100 [04:17<03:06,  4.44s/it]\n"
     ]
    },
    {
     "name": "stdout",
     "output_type": "stream",
     "text": [
      "cuda:1 Early stopping at epoch 59\n"
     ]
    },
    {
     "name": "stderr",
     "output_type": "stream",
     "text": [
      "Device:cuda:1 curr Loss: 0.2064, curr Dev Loss: 0.2717:  41%|████      | 41/100 [03:04<04:24,  4.49s/it]\n"
     ]
    },
    {
     "name": "stdout",
     "output_type": "stream",
     "text": [
      "cuda:1 Early stopping at epoch 42\n"
     ]
    },
    {
     "name": "stderr",
     "output_type": "stream",
     "text": [
      "Device:cuda:0 curr Loss: 0.1840, curr Dev Loss: 0.2691:  61%|██████    | 61/100 [04:29<02:52,  4.42s/it]\n"
     ]
    },
    {
     "name": "stdout",
     "output_type": "stream",
     "text": [
      "cuda:0 Early stopping at epoch 62\n"
     ]
    },
    {
     "name": "stderr",
     "output_type": "stream",
     "text": [
      "Device:cuda:0 curr Loss: 0.2062, curr Dev Loss: 0.2753:  40%|████      | 40/100 [02:59<04:28,  4.48s/it]\n"
     ]
    },
    {
     "name": "stdout",
     "output_type": "stream",
     "text": [
      "cuda:0 Early stopping at epoch 41\n"
     ]
    },
    {
     "name": "stderr",
     "output_type": "stream",
     "text": [
      "Device:cuda:1 curr Loss: 0.1951, curr Dev Loss: 0.2754:  53%|█████▎    | 53/100 [03:51<03:25,  4.36s/it]"
     ]
    },
    {
     "name": "stdout",
     "output_type": "stream",
     "text": [
      "cuda:1 Early stopping at epoch 54\n"
     ]
    },
    {
     "name": "stderr",
     "output_type": "stream",
     "text": [
      "Device:cuda:1 curr Loss: 0.1920, curr Dev Loss: 0.2728:  53%|█████▎    | 53/100 [03:56<03:29,  4.46s/it]\n",
      "Device:cuda:0 curr Loss: 0.2054, curr Dev Loss: 0.2765:  44%|████▍     | 44/100 [03:17<04:10,  4.48s/it]\n"
     ]
    },
    {
     "name": "stdout",
     "output_type": "stream",
     "text": [
      "cuda:0 Early stopping at epoch 45\n"
     ]
    },
    {
     "name": "stderr",
     "output_type": "stream",
     "text": [
      "Device:cuda:1 curr Loss: 0.1911, curr Dev Loss: 0.2744:  54%|█████▍    | 54/100 [04:00<03:25,  4.46s/it]\n"
     ]
    },
    {
     "name": "stdout",
     "output_type": "stream",
     "text": [
      "cuda:1 Early stopping at epoch 55\n",
      "Elapsed time:22.77 min\n"
     ]
    }
   ],
   "source": [
    "start_time = time.perf_counter()\n",
    "runner.run()\n",
    "end_time = time.perf_counter()\n",
    "print(f\"Elapsed time:{(end_time-start_time)/60:.2f} min\")"
   ]
  }
 ],
 "metadata": {
  "kernelspec": {
   "display_name": "base",
   "language": "python",
   "name": "python3"
  },
  "language_info": {
   "codemirror_mode": {
    "name": "ipython",
    "version": 3
   },
   "file_extension": ".py",
   "mimetype": "text/x-python",
   "name": "python",
   "nbconvert_exporter": "python",
   "pygments_lexer": "ipython3",
   "version": "3.12.3"
  }
 },
 "nbformat": 4,
 "nbformat_minor": 5
}
