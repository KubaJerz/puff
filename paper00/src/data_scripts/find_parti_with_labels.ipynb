{
 "cells": [
  {
   "cell_type": "code",
   "execution_count": 9,
   "id": "a71634b1",
   "metadata": {},
   "outputs": [],
   "source": [
    "import json"
   ]
  },
  {
   "cell_type": "code",
   "execution_count": 10,
   "id": "b2445445",
   "metadata": {},
   "outputs": [],
   "source": [
    "path = \"/home/kuba/labels/labels2025-08-20-13/smoking_labels_export_2025-08-20_13.json\""
   ]
  },
  {
   "cell_type": "code",
   "execution_count": 11,
   "id": "94237c47",
   "metadata": {},
   "outputs": [],
   "source": [
    "with open(path, 'r') as f:\n",
    "    labels = json.load(f)"
   ]
  },
  {
   "cell_type": "code",
   "execution_count": 12,
   "id": "94976eda",
   "metadata": {},
   "outputs": [
    {
     "data": {
      "text/plain": [
       "{1, 2, 3, 4, 5, 6, 7}"
      ]
     },
     "execution_count": 12,
     "metadata": {},
     "output_type": "execute_result"
    }
   ],
   "source": [
    "target_labels = {'puff', 'puffs'}\n",
    "\n",
    "def has_target_label(project):\n",
    "    for sesh in project['sessions']:\n",
    "        for bout in sesh['bouts']:\n",
    "            if bout['label'] in target_labels:\n",
    "                return True\n",
    "        \n",
    "    return False\n",
    "\n",
    "ids = { proj['participant']['participant_id'] for proj in labels['projects'] if has_target_label(proj)}\n",
    "ids"
   ]
  }
 ],
 "metadata": {
  "kernelspec": {
   "display_name": "base",
   "language": "python",
   "name": "python3"
  },
  "language_info": {
   "codemirror_mode": {
    "name": "ipython",
    "version": 3
   },
   "file_extension": ".py",
   "mimetype": "text/x-python",
   "name": "python",
   "nbconvert_exporter": "python",
   "pygments_lexer": "ipython3",
   "version": "3.12.3"
  }
 },
 "nbformat": 4,
 "nbformat_minor": 5
}
