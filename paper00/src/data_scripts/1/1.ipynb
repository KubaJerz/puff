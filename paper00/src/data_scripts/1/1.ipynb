{
 "cells": [
  {
   "cell_type": "code",
   "execution_count": null,
   "id": "34372491",
   "metadata": {},
   "outputs": [],
   "source": [
    "#imports"
   ]
  },
  {
   "cell_type": "code",
   "execution_count": null,
   "id": "de5ff210",
   "metadata": {},
   "outputs": [],
   "source": [
    "# DEF CONSTATS\n",
    "\n",
    "LABELS_PATH = ...\n",
    "DATA_PATH = ...\n",
    "RESAMPLE = "
   ]
  }
 ],
 "metadata": {
  "language_info": {
   "name": "python"
  }
 },
 "nbformat": 4,
 "nbformat_minor": 5
}
