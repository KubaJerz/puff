{
 "cells": [
  {
   "cell_type": "code",
   "execution_count": null,
   "id": "716da2ee",
   "metadata": {},
   "outputs": [],
   "source": [
    "import torch \n",
    "import numpy as np\n",
    "import matplotlib.pyplot as plt\n",
    "import importlib\n",
    "import sys"
   ]
  },
  {
   "cell_type": "code",
   "execution_count": null,
   "id": "4705532b",
   "metadata": {},
   "outputs": [],
   "source": [
    "seed = 70\n",
    "model_weights = '/home/kuba/projects/puff/paper00/experiments/old/04session-split00/runs/same_config_run/3/best_dev_model.pt'\n",
    "model_def = '/home/kuba/projects/puff/paper00/unet.py'\n",
    "data_path = '/home/kuba/projects/puff/paper00/experiments/old/04session-split00/data/test.pt'"
   ]
  },
  {
   "cell_type": "code",
   "execution_count": null,
   "id": "68e042b9",
   "metadata": {},
   "outputs": [],
   "source": [
    "X, y = torch.load(data_path, weights_only=True)"
   ]
  },
  {
   "cell_type": "code",
   "execution_count": null,
   "id": "2d27da53",
   "metadata": {},
   "outputs": [],
   "source": [
    "X[0].shape"
   ]
  },
  {
   "cell_type": "code",
   "execution_count": null,
   "id": "8b4fea34",
   "metadata": {},
   "outputs": [],
   "source": [
    "def viz(i, data, to_transpose=True):\n",
    "    to_plot = torch.hstack((data[i], data[i+1]))\n",
    "    print(to_plot.shape)\n",
    "    if to_transpose:\n",
    "        plt.plot(to_plot.T);\n",
    "    else:\n",
    "        plt.plot(to_plot);\n",
    "    plt.vlines(x=1024, ymin=-10, ymax=10, linestyles='--', colors='black', alpha=0.18)\n",
    "    plt.show();"
   ]
  },
  {
   "cell_type": "code",
   "execution_count": null,
   "id": "cf4429c1",
   "metadata": {},
   "outputs": [],
   "source": [
    "len(X)"
   ]
  },
  {
   "cell_type": "code",
   "execution_count": null,
   "id": "3a4b381c",
   "metadata": {},
   "outputs": [],
   "source": [
    "#now can we un-shuffle this\n",
    "np.random.seed(seed)\n",
    "perm_idx = np.random.permutation(len(X))\n",
    "reverse =  np.empty_like(perm_idx)\n",
    "reverse[perm_idx] = np.arange(len(perm_idx))"
   ]
  },
  {
   "cell_type": "code",
   "execution_count": null,
   "id": "aec65373",
   "metadata": {},
   "outputs": [],
   "source": [
    "X_fixed = X[reverse]\n",
    "y_fixed = y[reverse]"
   ]
  },
  {
   "cell_type": "code",
   "execution_count": null,
   "id": "5e38f416",
   "metadata": {},
   "outputs": [],
   "source": [
    "X[:,:3].shape"
   ]
  },
  {
   "cell_type": "code",
   "execution_count": null,
   "id": "c23101e0",
   "metadata": {},
   "outputs": [],
   "source": [
    "i = 91\n",
    "viz(i, X[:,:3])\n",
    "viz(i, X_fixed[:,:3])"
   ]
  },
  {
   "cell_type": "code",
   "execution_count": null,
   "id": "9cd65e79",
   "metadata": {},
   "outputs": [],
   "source": [
    "sum(y_fixed[91] == 1)"
   ]
  },
  {
   "cell_type": "code",
   "execution_count": null,
   "id": "eafd501c",
   "metadata": {},
   "outputs": [],
   "source": [
    "i = 91\n",
    "viz(i, y, to_transpose=False)\n",
    "viz(i, y_fixed, to_transpose=False)"
   ]
  },
  {
   "cell_type": "code",
   "execution_count": null,
   "id": "4cf685c1",
   "metadata": {},
   "outputs": [],
   "source": [
    "torch.where(y_fixed.sum(axis=1) > 0)"
   ]
  },
  {
   "cell_type": "code",
   "execution_count": null,
   "id": "2d07837a",
   "metadata": {},
   "outputs": [],
   "source": [
    "# Add  the model def to the path to import the class\n",
    "module_path, file_name = model_def.rsplit('/', 1)\n",
    "file_prefix = file_name.split('.')[0]\n",
    "module_path, file_prefix"
   ]
  },
  {
   "cell_type": "code",
   "execution_count": null,
   "id": "905f87e6",
   "metadata": {},
   "outputs": [],
   "source": [
    "sys.path.append(module_path)\n",
    "module = importlib.import_module(file_prefix)\n",
    "model_class = getattr(module, 'Model')\n",
    "\n",
    "#add an needed specifications\n",
    "model_obj = model_class()"
   ]
  },
  {
   "cell_type": "code",
   "execution_count": null,
   "id": "9d580778",
   "metadata": {},
   "outputs": [],
   "source": [
    "model_obj.load_state_dict(torch.load(model_weights, weights_only=True))"
   ]
  },
  {
   "cell_type": "code",
   "execution_count": null,
   "id": "62920a50",
   "metadata": {},
   "outputs": [],
   "source": [
    "model_obj.eval()\n",
    "with torch.no_grad():\n",
    "    output = model_obj(X_fixed[90:100])"
   ]
  },
  {
   "cell_type": "code",
   "execution_count": null,
   "id": "ea6b7d12",
   "metadata": {},
   "outputs": [],
   "source": [
    "plt.figure(figsize=(18,10))\n",
    "plt.plot(torch.sigmoid(output.flatten()));\n",
    "plt.plot(y_fixed[90:100].flatten());"
   ]
  },
  {
   "cell_type": "code",
   "execution_count": null,
   "id": "0d1a5e92",
   "metadata": {},
   "outputs": [],
   "source": [
    "thresh_pred = (torch.sigmoid(output.flatten()) > 0.8).long()"
   ]
  },
  {
   "cell_type": "code",
   "execution_count": null,
   "id": "a21f0d8c",
   "metadata": {},
   "outputs": [],
   "source": [
    "from scipy.ndimage import binary_closing\n",
    "\n",
    "# Apply after sigmoid and thresholding\n",
    "closed_thresh_pred = binary_closing(thresh_pred, structure=np.ones(100)) - 0.004\n"
   ]
  },
  {
   "cell_type": "code",
   "execution_count": null,
   "id": "d2fa964c",
   "metadata": {},
   "outputs": [],
   "source": [
    "plt.figure(figsize=(18,10))\n",
    "plt.plot(closed_thresh_pred);\n",
    "plt.plot(y_fixed[90:100].flatten());"
   ]
  }
 ],
 "metadata": {
  "kernelspec": {
   "display_name": "base",
   "language": "python",
   "name": "python3"
  },
  "language_info": {
   "codemirror_mode": {
    "name": "ipython",
    "version": 3
   },
   "file_extension": ".py",
   "mimetype": "text/x-python",
   "name": "python",
   "nbconvert_exporter": "python",
   "pygments_lexer": "ipython3",
   "version": "3.12.3"
  }
 },
 "nbformat": 4,
 "nbformat_minor": 5
}
