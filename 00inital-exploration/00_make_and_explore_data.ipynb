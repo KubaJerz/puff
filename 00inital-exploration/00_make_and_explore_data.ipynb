{
 "cells": [
  {
   "cell_type": "markdown",
   "id": "751d5a15",
   "metadata": {},
   "source": [
    "## Data Exploration Notebook\n",
    "This notebook serves two purposes:\n",
    "\n",
    "1. Explore how the data is formatted and how to process it for machine learning\n",
    "\n",
    "2. Explore the data distribution to better understand it\n",
    "We are working with a small set of preliminary data. Once the entire dataset is labeled, it will be necessary to properly validate the labeling and thoroughly explore the distribution of labels and data points."
   ]
  },
  {
   "cell_type": "code",
   "execution_count": null,
   "id": "2308bcb4",
   "metadata": {},
   "outputs": [],
   "source": [
    "import torch\n",
    "import pandas as pd\n",
    "import numpy as np\n",
    "import matplotlib.pyplot as plt\n",
    "import plotly.graph_objects as go\n",
    "import torch "
   ]
  },
  {
   "cell_type": "code",
   "execution_count": null,
   "id": "325aac78",
   "metadata": {},
   "outputs": [],
   "source": [
    "PATH_LABLES = '/home/kuba/temp/smoking_labels_export3.csv'\n",
    "file_date = '2025-05-20_10_54_16'\n",
    "df = pd.read_csv(PATH_LABLES)\n",
    "df['label'].unique()"
   ]
  },
  {
   "cell_type": "code",
   "execution_count": null,
   "id": "d36e5c3b",
   "metadata": {},
   "outputs": [],
   "source": [
    "PATH_DATA = f'/media/data/smoking_data_v2/asfik/{file_date}'\n"
   ]
  },
  {
   "cell_type": "code",
   "execution_count": null,
   "id": "80d4c146",
   "metadata": {},
   "outputs": [],
   "source": [
    "accl = pd.read_csv(PATH_DATA+'/accelerometer_data.csv')\n",
    "gyro = pd.read_csv(PATH_DATA+'/gyroscope_data.csv')\n"
   ]
  },
  {
   "cell_type": "code",
   "execution_count": null,
   "id": "325f3065",
   "metadata": {},
   "outputs": [],
   "source": [
    "# df = df[df['session_name'].str.startswith(file_date)]\n",
    "df = df[df['project_name'].str.startswith('asfik_kuba_upload')]\n",
    "df.head()"
   ]
  },
  {
   "cell_type": "code",
   "execution_count": null,
   "id": "5cc0d39c",
   "metadata": {},
   "outputs": [],
   "source": [
    "print(f\"Len of accl is: {len(accl)}\")\n",
    "accl = accl.rename(columns={\"x\":\"x_acc\", \"y\":\"y_acc\", \"z\":\"z_acc\"})\n",
    "accl.head()"
   ]
  },
  {
   "cell_type": "code",
   "execution_count": null,
   "id": "5bb9ab04",
   "metadata": {},
   "outputs": [],
   "source": [
    "accl.tail()"
   ]
  },
  {
   "cell_type": "code",
   "execution_count": null,
   "id": "8fa099bb",
   "metadata": {},
   "outputs": [],
   "source": [
    "print(f\"Len of gyro is: {len(gyro)}\")\n",
    "gyro = gyro.rename(columns={\"x\":\"x_gyro\", \"y\":\"y_gyro\", \"z\":\"z_gyro\"})\n",
    "gyro.head()"
   ]
  },
  {
   "cell_type": "code",
   "execution_count": null,
   "id": "3949a222",
   "metadata": {},
   "outputs": [],
   "source": [
    "gyro.tail()"
   ]
  },
  {
   "cell_type": "code",
   "execution_count": null,
   "id": "ae2b1bba",
   "metadata": {},
   "outputs": [],
   "source": [
    "puff_starts = []\n",
    "puff_ends = []\n",
    "\n",
    "for idx, row in df.iterrows():\n",
    "    if row['label'] == 'puff':\n",
    "        start  = row['start_time']\n",
    "        end  = row['end_time']\n",
    "        puff_starts.append(start)\n",
    "        puff_ends.append(end)\n",
    "\n"
   ]
  },
  {
   "cell_type": "code",
   "execution_count": null,
   "id": "17349cdf",
   "metadata": {},
   "outputs": [],
   "source": [
    "accl['label'] = 0\n",
    "\n",
    "for start, stop in zip(puff_starts, puff_ends):\n",
    "    mask = (accl['ns_since_reboot'] >= start) & (accl['ns_since_reboot'] <= stop)\n",
    "    accl.loc[mask, 'label'] = 1"
   ]
  },
  {
   "cell_type": "code",
   "execution_count": null,
   "id": "8e13c973",
   "metadata": {},
   "outputs": [],
   "source": [
    "plt.plot(accl['x_acc'])"
   ]
  },
  {
   "cell_type": "code",
   "execution_count": null,
   "id": "3242ba81",
   "metadata": {},
   "outputs": [],
   "source": [
    "label_to_check = 0\n",
    "print(f\"{ (accl['label'] == label_to_check).sum() / len(accl) *100:.2f}% of the duration is class: {label_to_check}\")\n",
    "\n",
    "print(f\"The unique classes are: {accl['label'].unique()}\")"
   ]
  },
  {
   "cell_type": "code",
   "execution_count": null,
   "id": "1dc3c2ce",
   "metadata": {},
   "outputs": [],
   "source": [
    "print(f\"Len of accl is: {len(accl)}\")\n"
   ]
  },
  {
   "cell_type": "code",
   "execution_count": null,
   "id": "229aa774",
   "metadata": {},
   "outputs": [],
   "source": [
    "puff_starts[0], int(puff_ends[0])"
   ]
  },
  {
   "cell_type": "code",
   "execution_count": null,
   "id": "d0e817ba",
   "metadata": {},
   "outputs": [],
   "source": [
    "# plt.plot(accl['ns_since_reboot'], accl['x'])\n",
    "# for start, end in zip(puff_starts, puff_ends):\n",
    "#     # pr\n",
    "#     plt.axvspan(start, end, alpha=0.3, color='red')"
   ]
  },
  {
   "cell_type": "code",
   "execution_count": null,
   "id": "72015323",
   "metadata": {},
   "outputs": [],
   "source": [
    "accl"
   ]
  },
  {
   "cell_type": "code",
   "execution_count": null,
   "id": "aaf4f9f2",
   "metadata": {},
   "outputs": [],
   "source": [
    "accel_and_gyro = pd.concat((accl, gyro.drop(columns=['ns_since_reboot'])), axis=1).dropna(axis=0)\n",
    "accel_and_gyro = accel_and_gyro.loc[:, ['ns_since_reboot', 'x_acc', 'y_acc', 'z_acc', 'x_gyro', 'y_gyro', 'z_gyro', 'label']]\n",
    "accel_and_gyro\n"
   ]
  },
  {
   "cell_type": "code",
   "execution_count": null,
   "id": "17205edb",
   "metadata": {},
   "outputs": [],
   "source": [
    "\n",
    "# #viz via plotly\n",
    "# fig = go.Figure()\n",
    "\n",
    "# fig.add_trace(go.Scatter(x=accl['ns_since_reboot'], y=accl['x'],mode='lines',name='Accel X'))\n",
    "# fig.add_trace(go.Scatter(x=accl['ns_since_reboot'], y=accl['y'],mode='lines',name='Accel X'))\n",
    "# fig.add_trace(go.Scatter(x=accl['ns_since_reboot'], y=accl['z'],mode='lines',name='Accel X'))\n",
    "\n",
    "\n",
    "# # Add shaded regions for gestures\n",
    "# for start, end in zip(puff_starts, puff_ends):\n",
    "#     fig.add_vrect(x0=start, x1=end,fillcolor=\"red\", opacity=0.3, layer=\"below\",line_width=0)\n",
    "\n",
    "# fig.show()"
   ]
  },
  {
   "cell_type": "code",
   "execution_count": null,
   "id": "083cf114",
   "metadata": {},
   "outputs": [],
   "source": [
    "start, end = int(2.6e12) , int(3.5 * 1e12) #The range of nano sec from start to end that we are inturested in \n",
    "\n",
    "filtered_accel_and_gyro = accel_and_gyro[(accel_and_gyro['ns_since_reboot'] >= start) & (accel_and_gyro['ns_since_reboot'] <= end)]\n",
    "fig = go.Figure()\n",
    "fig.add_trace(go.Scatter(x=filtered_accel_and_gyro['ns_since_reboot'], y=filtered_accel_and_gyro['x_acc'], name='X'))\n",
    "\n",
    "for start, end in zip(puff_starts, puff_ends):\n",
    "    if start >= filtered_accel_and_gyro['ns_since_reboot'].iloc[0] and end <= filtered_accel_and_gyro['ns_since_reboot'].iloc[-1]:\n",
    "        fig.add_vrect(x0=start, x1=end,fillcolor=\"red\", opacity=0.3, layer=\"below\",line_width=0)\n",
    "fig.show()"
   ]
  },
  {
   "cell_type": "code",
   "execution_count": null,
   "id": "e7f6ffbb",
   "metadata": {},
   "outputs": [],
   "source": [
    "start, end = int(4.6e12) , int(5.6 * 1e12) #The range of nano sec from start to end that we are inturested in \n",
    "\n",
    "filtered_accel_and_gyro = accel_and_gyro[(accel_and_gyro['ns_since_reboot'] >= start) & (accel_and_gyro['ns_since_reboot'] <= end)]\n",
    "fig = go.Figure()\n",
    "fig.add_trace(go.Scatter(x=filtered_accel_and_gyro['ns_since_reboot'], y=filtered_accel_and_gyro['x_acc'], name='X'))\n",
    "\n",
    "for start, end in zip(puff_starts, puff_ends):\n",
    "    if start >= filtered_accel_and_gyro['ns_since_reboot'].iloc[0] and end <= filtered_accel_and_gyro['ns_since_reboot'].iloc[-1]:\n",
    "        fig.add_vrect(x0=start, x1=end,fillcolor=\"red\", opacity=0.3, layer=\"below\",line_width=0)\n",
    "fig.show()"
   ]
  },
  {
   "cell_type": "code",
   "execution_count": null,
   "id": "ae9521e2",
   "metadata": {},
   "outputs": [],
   "source": [
    "df_combined = pd.DataFrame(columns=[accel_and_gyro.columns])\n",
    "\n",
    "start, end = int(0) , int(.4 * 1e12) #The range of nano sec from start to end that we are inturested in \n",
    "filtered0 = accel_and_gyro[(accel_and_gyro['ns_since_reboot'] >= start) & (accel_and_gyro['ns_since_reboot'] <= end)]\n",
    "\n",
    "\n",
    "start, end = int(2.6e12) , int(3.5 * 1e12) #The range of nano sec from start to end that we are inturested in \n",
    "filtered1 = accel_and_gyro[(accel_and_gyro['ns_since_reboot'] >= start) & (accel_and_gyro['ns_since_reboot'] <= end)]\n",
    "\n",
    "\n",
    "start, end = int(4.6e12) , int(5.6 * 1e12) #The range of nano sec from start to end that we are inturested in \n",
    "filtered2 = accel_and_gyro[(accel_and_gyro['ns_since_reboot'] >= start) & (accel_and_gyro['ns_since_reboot'] <= end)]\n",
    "\n",
    "df_combined = pd.concat((filtered0, filtered1, filtered2), ignore_index=True)"
   ]
  },
  {
   "cell_type": "code",
   "execution_count": null,
   "id": "0da7cc0e",
   "metadata": {},
   "outputs": [],
   "source": [
    "df_combined"
   ]
  },
  {
   "cell_type": "code",
   "execution_count": null,
   "id": "0e3f10e0",
   "metadata": {},
   "outputs": [],
   "source": [
    "len(df_combined), len(accl)"
   ]
  },
  {
   "cell_type": "code",
   "execution_count": null,
   "id": "11557d8a",
   "metadata": {},
   "outputs": [],
   "source": [
    "plt.plot(df_combined['x_acc'])\n",
    "plt.plot(df_combined['label'] * 10)"
   ]
  },
  {
   "cell_type": "markdown",
   "id": "13b26aed",
   "metadata": {},
   "source": [
    "make the tensors"
   ]
  },
  {
   "cell_type": "code",
   "execution_count": null,
   "id": "1e63499b",
   "metadata": {},
   "outputs": [],
   "source": [
    "df_combined.columns\n"
   ]
  },
  {
   "cell_type": "code",
   "execution_count": null,
   "id": "278150ba",
   "metadata": {},
   "outputs": [],
   "source": [
    "x_acc = torch.tensor(df_combined['x_acc'].to_numpy().reshape(1,-1))\n",
    "y_acc = torch.tensor(df_combined['y_acc'].to_numpy().reshape(1,-1))\n",
    "z_acc = torch.tensor(df_combined['z_acc'].to_numpy().reshape(1,-1))\n",
    "\n",
    "x_gyro = torch.tensor(df_combined['x_gyro'].to_numpy().reshape(1,-1))\n",
    "y_gyro = torch.tensor(df_combined['y_gyro'].to_numpy().reshape(1,-1))\n",
    "z_gyro = torch.tensor(df_combined['z_gyro'].to_numpy().reshape(1,-1))\n",
    "\n",
    "\n",
    "X = torch.stack((x_acc, y_acc, z_acc, x_gyro, y_gyro, z_gyro), dim=1).squeeze()\n",
    "X.shape"
   ]
  },
  {
   "cell_type": "code",
   "execution_count": null,
   "id": "ee375fa5",
   "metadata": {},
   "outputs": [],
   "source": [
    "label = torch.tensor(df_combined['label'].to_numpy())\n",
    "label.shape"
   ]
  },
  {
   "cell_type": "code",
   "execution_count": null,
   "id": "7d57bfd4",
   "metadata": {},
   "outputs": [],
   "source": [
    "# label_lens = []\n",
    "\n",
    "# curr_len = 0\n",
    "# in_label = False\n",
    "# for value in label:\n",
    "#     if (not in_label) and (value == 1):\n",
    "#         #we just entered a label\n",
    "#         in_label = True\n",
    "#         curr_len += 1 \n",
    "#     elif (in_label) and (value == 1):\n",
    "#         # we are in a label and saw next element of label\n",
    "#         curr_len += 1\n",
    "#     elif (in_label) and (value == 0):\n",
    "#         # we were in label and jsut left\n",
    "#         label_lens.append(curr_len)\n",
    "#         in_label = False\n",
    "#         curr_len = 0\n",
    "#     #we dont werite the else case we dont need it \n",
    "\n",
    "diff = np.diff(np.concatenate(([0], label, [0])))\n",
    "starts = np.where(diff == 1)[0]\n",
    "ends = np.where(diff == -1)[0]\n",
    "label_lens = (ends - starts)"
   ]
  },
  {
   "cell_type": "code",
   "execution_count": null,
   "id": "4bfb5d53",
   "metadata": {},
   "outputs": [],
   "source": [
    "label_lens.max()"
   ]
  },
  {
   "cell_type": "code",
   "execution_count": null,
   "id": "efb8a45f",
   "metadata": {},
   "outputs": [],
   "source": [
    "(np.array(label_lens)).std()"
   ]
  },
  {
   "cell_type": "code",
   "execution_count": null,
   "id": "bb4c00f2",
   "metadata": {},
   "outputs": [],
   "source": [
    "WINDOW_SIZE = 512\n",
    "\n",
    "rows = []\n",
    "windows = []\n",
    "\n",
    "for i in range(0, len(label) - WINDOW_SIZE, WINDOW_SIZE // 2):\n",
    "    rows.append(X[:,i:i+WINDOW_SIZE])\n",
    "    windows.append(label[i:i+WINDOW_SIZE])\n",
    "\n",
    "rows = np.array(rows)\n",
    "windows =  np.array(windows)"
   ]
  },
  {
   "cell_type": "code",
   "execution_count": null,
   "id": "ac775ce8",
   "metadata": {},
   "outputs": [],
   "source": [
    "windows.shape, rows.shape"
   ]
  },
  {
   "cell_type": "code",
   "execution_count": null,
   "id": "deab7506",
   "metadata": {},
   "outputs": [],
   "source": [
    "puff_steps_per_row = np.sum(windows, axis=1) #for each row how many idxs have a puff\n",
    "puff_steps_per_row.shape"
   ]
  },
  {
   "cell_type": "code",
   "execution_count": null,
   "id": "707a1a8e",
   "metadata": {},
   "outputs": [],
   "source": [
    "has_puff_count = np.sum(puff_steps_per_row > 0)\n",
    "does_not_havepuff_count = np.sum(puff_steps_per_row == 0)"
   ]
  },
  {
   "cell_type": "code",
   "execution_count": null,
   "id": "dae2570e",
   "metadata": {},
   "outputs": [],
   "source": [
    "plt.pie([has_puff_count, does_not_havepuff_count], labels=['Contains a Puff', 'No Puff'], autopct='%1.2f%%', colors=['red','green']);\n",
    "plt.legend()\n",
    "plt.show()"
   ]
  },
  {
   "cell_type": "code",
   "execution_count": null,
   "id": "beb7b145",
   "metadata": {},
   "outputs": [],
   "source": [
    "#filter out the rows with zeros\n",
    "filtered_puff_steps_per_row = puff_steps_per_row[(puff_steps_per_row > 0)]"
   ]
  },
  {
   "cell_type": "code",
   "execution_count": null,
   "id": "2ae43345",
   "metadata": {},
   "outputs": [],
   "source": [
    "\n",
    "\n",
    "plt.hist(filtered_puff_steps_per_row, bins=15)\n",
    "plt.suptitle('Puff steps (aka idxs) per row')\n",
    "plt.title(\"EXCLUDING ROWS WITH ZEROS\", fontsize=7)\n",
    "plt.show()"
   ]
  },
  {
   "cell_type": "code",
   "execution_count": null,
   "id": "cf890b5a",
   "metadata": {},
   "outputs": [],
   "source": [
    "X = torch.tensor(rows, dtype=torch.float32)\n",
    "y = torch.tensor(windows, dtype=torch.float32)\n",
    "X.shape, y.shape"
   ]
  },
  {
   "cell_type": "code",
   "execution_count": null,
   "id": "701610d6",
   "metadata": {},
   "outputs": [],
   "source": [
    "# torch.save(X, 'X.pt')\n",
    "# torch.save(y, 'y.pt')"
   ]
  }
 ],
 "metadata": {
  "kernelspec": {
   "display_name": "base",
   "language": "python",
   "name": "python3"
  },
  "language_info": {
   "codemirror_mode": {
    "name": "ipython",
    "version": 3
   },
   "file_extension": ".py",
   "mimetype": "text/x-python",
   "name": "python",
   "nbconvert_exporter": "python",
   "pygments_lexer": "ipython3",
   "version": "3.10.12"
  }
 },
 "nbformat": 4,
 "nbformat_minor": 5
}
