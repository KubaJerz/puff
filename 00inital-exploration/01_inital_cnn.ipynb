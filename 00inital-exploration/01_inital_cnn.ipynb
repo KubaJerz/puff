{
 "cells": [
  {
   "cell_type": "code",
   "execution_count": 1,
   "id": "e15f604f",
   "metadata": {},
   "outputs": [],
   "source": [
    "import torch\n",
    "import torch.nn as nn\n",
    "from torch.utils.data import TensorDataset, DataLoader\n",
    "import torch.nn.functional as F\n",
    "import matplotlib.pyplot as plt\n",
    "from tqdm import tqdm"
   ]
  },
  {
   "cell_type": "markdown",
   "id": "9ad6886e",
   "metadata": {},
   "source": [
    "1. Make dataset\n",
    "\n",
    "1.1 Import dataset"
   ]
  },
  {
   "cell_type": "code",
   "execution_count": 2,
   "id": "3703db9b",
   "metadata": {},
   "outputs": [
    {
     "data": {
      "text/plain": [
       "(torch.Size([463, 6, 512]), torch.Size([463, 512]))"
      ]
     },
     "execution_count": 2,
     "metadata": {},
     "output_type": "execute_result"
    }
   ],
   "source": [
    "X_base = torch.load('X.pt')\n",
    "y_base = torch.load('y.pt')\n",
    "\n",
    "X_base.shape, y_base.shape"
   ]
  },
  {
   "cell_type": "markdown",
   "id": "838ad05a",
   "metadata": {},
   "source": [
    "1.2 Shuffle Dataset"
   ]
  },
  {
   "cell_type": "code",
   "execution_count": 3,
   "id": "c424df98",
   "metadata": {},
   "outputs": [],
   "source": [
    "torch.manual_seed(68)\n",
    "perm = torch.randperm(X_base.size(0))\n",
    "X = X_base[perm]\n",
    "y = y_base[perm]"
   ]
  },
  {
   "cell_type": "markdown",
   "id": "3b9f866d",
   "metadata": {},
   "source": [
    "1.3 Split train and dev"
   ]
  },
  {
   "cell_type": "code",
   "execution_count": 4,
   "id": "d378f905",
   "metadata": {},
   "outputs": [
    {
     "data": {
      "text/plain": [
       "(torch.Size([370, 6, 512]),\n",
       " torch.Size([370, 512]),\n",
       " torch.Size([93, 6, 512]),\n",
       " torch.Size([93, 512]))"
      ]
     },
     "execution_count": 4,
     "metadata": {},
     "output_type": "execute_result"
    }
   ],
   "source": [
    "train_percent = 0.8\n",
    "last_train_idx = int(train_percent * len(X))\n",
    "X_train, y_train = X[:last_train_idx], y[:last_train_idx]\n",
    "X_dev, y_dev = X[last_train_idx:], y[last_train_idx:]\n",
    "\n",
    "\n",
    "X_train.shape, y_train.shape, X_dev.shape, y_dev.shape"
   ]
  },
  {
   "cell_type": "markdown",
   "id": "e84f1866",
   "metadata": {},
   "source": [
    "1.4 Make into a torch dataset"
   ]
  },
  {
   "cell_type": "code",
   "execution_count": 5,
   "id": "41c7685f",
   "metadata": {},
   "outputs": [],
   "source": [
    "train_dataset = TensorDataset(X_train, y_train)"
   ]
  },
  {
   "cell_type": "markdown",
   "id": "216efda4",
   "metadata": {},
   "source": [
    "1.5 Make train loader"
   ]
  },
  {
   "cell_type": "code",
   "execution_count": 6,
   "id": "98babbcf",
   "metadata": {},
   "outputs": [],
   "source": [
    "train_loader = DataLoader(train_dataset, batch_size=32)"
   ]
  },
  {
   "cell_type": "markdown",
   "id": "d9e0fac7",
   "metadata": {},
   "source": [
    "2. Make model"
   ]
  },
  {
   "cell_type": "code",
   "execution_count": 7,
   "id": "52a68f2a",
   "metadata": {},
   "outputs": [],
   "source": [
    "# class simple_segmenter(nn.Module):\n",
    "#     def __init__(self, *args, **kwargs):\n",
    "#         super().__init__(*args, **kwargs)\n",
    "#         self.l0 = nn.Conv1d(6, 8, kernel_size=3, stride=2, padding=1)\n",
    "#         self.l1 = nn.Conv1d(8, 16, kernel_size=3, stride=2, padding=1)\n",
    "#         self.l2 = nn.Conv1d(16, 32, kernel_size=3, stride=2, padding=1)\n",
    "\n",
    "#         self.l3 = nn.ConvTranspose1d(32, 16, kernel_size=3, stride=2, padding=1)\n",
    "#         self.l4 = nn.ConvTranspose1d(16, 8, kernel_size=3, stride=2, padding=1, output_padding=1)\n",
    "#         self.l5 = nn.ConvTranspose1d(8, 1, kernel_size=3, stride=2, padding=1, output_padding=1)\n",
    "\n",
    "#         self.relu = nn.ReLU()\n",
    "\n",
    "#     def forward(self, x):\n",
    "#         x = self.relu(self.l0(x))\n",
    "#         x = self.relu(self.l1(x))\n",
    "#         ll = self.relu(self.l2(x))\n",
    "        \n",
    "#         x = self.relu(self.l3(ll))\n",
    "#         x = self.relu(self.l4(x))\n",
    "#         x = self.relu(self.l5(x))\n",
    "\n",
    "#         return x\n",
    "\n",
    "\n",
    "class DoubleConv(nn.Module):\n",
    "    \"\"\"(Conv1d -> ReLU -> Conv1d -> ReLU)\"\"\"\n",
    "    def __init__(self, in_channels, out_channels):\n",
    "        super().__init__()\n",
    "        self.double_conv = nn.Sequential(\n",
    "            nn.Conv1d(in_channels, out_channels, kernel_size=3, padding=1),\n",
    "            nn.ReLU(inplace=True),\n",
    "            nn.Conv1d(out_channels, out_channels, kernel_size=3, padding=1),\n",
    "            nn.ReLU(inplace=True)\n",
    "        )\n",
    "\n",
    "    def forward(self, x):\n",
    "        return self.double_conv(x)\n",
    "\n",
    "class UNet1D(nn.Module):\n",
    "    def __init__(self, in_channels=6, out_channels=1):\n",
    "        super().__init__()\n",
    "\n",
    "        # Encoder\n",
    "        self.enc1 = DoubleConv(in_channels, 64)\n",
    "        self.pool1 = nn.MaxPool1d(2)\n",
    "        self.enc2 = DoubleConv(64, 128)\n",
    "        self.pool2 = nn.MaxPool1d(2)\n",
    "        self.enc3 = DoubleConv(128, 256)\n",
    "        self.pool3 = nn.MaxPool1d(2)\n",
    "\n",
    "        # Bottleneck\n",
    "        self.bottleneck = DoubleConv(256, 512)\n",
    "\n",
    "        # Decoder\n",
    "        self.up3 = nn.ConvTranspose1d(512, 256, kernel_size=2, stride=2)\n",
    "        self.dec3 = DoubleConv(512, 256)\n",
    "        self.up2 = nn.ConvTranspose1d(256, 128, kernel_size=2, stride=2)\n",
    "        self.dec2 = DoubleConv(256, 128)\n",
    "        self.up1 = nn.ConvTranspose1d(128, 64, kernel_size=2, stride=2)\n",
    "        self.dec1 = DoubleConv(128, 64)\n",
    "\n",
    "        # Final output\n",
    "        self.out = nn.Conv1d(64, out_channels, kernel_size=1)\n",
    "\n",
    "    def forward(self, x):\n",
    "        # Encoder\n",
    "        x1 = self.enc1(x)\n",
    "        x2 = self.enc2(self.pool1(x1))\n",
    "        x3 = self.enc3(self.pool2(x2))\n",
    "\n",
    "        # Bottleneck\n",
    "        x4 = self.bottleneck(self.pool3(x3))\n",
    "\n",
    "        # Decoder\n",
    "        x = self.up3(x4)\n",
    "        x = self.dec3(torch.cat([x, x3], dim=1))\n",
    "        x = self.up2(x)\n",
    "        x = self.dec2(torch.cat([x, x2], dim=1))\n",
    "        x = self.up1(x)\n",
    "        x = self.dec1(torch.cat([x, x1], dim=1))\n",
    "\n",
    "        return self.out(x)"
   ]
  },
  {
   "cell_type": "markdown",
   "id": "4f0b3a4e",
   "metadata": {},
   "source": [
    "3. Make/Def Loss Function"
   ]
  },
  {
   "cell_type": "code",
   "execution_count": 8,
   "id": "47ed88b6",
   "metadata": {},
   "outputs": [],
   "source": [
    "class DiceBCELoss(nn.Module):\n",
    "    def __init__(self, smooth=1):\n",
    "        super(DiceBCELoss, self).__init__()\n",
    "        self.smooth = smooth \n",
    "        \n",
    "    def forward(self, inputs, targets):\n",
    "        # Handle shape mismatch - squeeze the channel dimension if it's 1\n",
    "        if inputs.dim() == 3 and inputs.size(1) == 1:\n",
    "            inputs = inputs.squeeze(1)  # Remove channel dimension\n",
    "        \n",
    "        # Ensure targets are float and same shape as inputs\n",
    "        targets = targets.float()\n",
    "        if targets.shape != inputs.shape:\n",
    "            targets = targets.view_as(inputs)\n",
    "        \n",
    "        # Use BCEWithLogitsLoss which applies sigmoid internally\n",
    "        BCE = F.binary_cross_entropy_with_logits(inputs, targets, reduction='mean')\n",
    "        \n",
    "        # Apply sigmoid for Dice calculation\n",
    "        inputs_sigmoid = torch.sigmoid(inputs)\n",
    "        \n",
    "        # Flatten tensors\n",
    "        inputs_flat = inputs_sigmoid.view(-1)\n",
    "        targets_flat = targets.view(-1)\n",
    "        \n",
    "        # Calculate Dice coefficient\n",
    "        intersection = (inputs_flat * targets_flat).sum()\n",
    "        dice_loss = 1 - (2. * intersection + self.smooth) / (inputs_flat.sum() + targets_flat.sum() + self.smooth)\n",
    "        \n",
    "        # Combine losses\n",
    "        Dice_BCE = BCE + dice_loss\n",
    "        \n",
    "        return Dice_BCE"
   ]
  },
  {
   "cell_type": "markdown",
   "id": "681c1dff",
   "metadata": {},
   "source": [
    "4. init The Important Stuff"
   ]
  },
  {
   "cell_type": "code",
   "execution_count": 9,
   "id": "4de883cd",
   "metadata": {},
   "outputs": [],
   "source": [
    "model = UNet1D()\n",
    "criterion = DiceBCELoss()\n",
    "\n",
    "optimizer = torch.optim.Adam(model.parameters(), lr=0.0003)"
   ]
  },
  {
   "cell_type": "markdown",
   "id": "3946347d",
   "metadata": {},
   "source": [
    "5. Created training loop"
   ]
  },
  {
   "cell_type": "code",
   "execution_count": 10,
   "id": "ea00d1e3",
   "metadata": {},
   "outputs": [],
   "source": [
    "lossi = []\n",
    "devlossi = []\n",
    "device = \"cuda:0\"\n",
    "model = model.to(device=device)\n",
    "X_dev, y_dev = X_dev.to(device=device), y_dev.to(device=device)"
   ]
  },
  {
   "cell_type": "code",
   "execution_count": 11,
   "id": "8d5d6ea0",
   "metadata": {},
   "outputs": [
    {
     "name": "stderr",
     "output_type": "stream",
     "text": [
      "100%|██████████| 5/5 [00:00<00:00,  6.46it/s]\n"
     ]
    },
    {
     "data": {
      "image/png": "[encoded data removed]",
      "text/plain": [
       "<Figure size 640x480 with 1 Axes>"
      ]
     },
     "metadata": {},
     "output_type": "display_data"
    }
   ],
   "source": [
    "for epoch in tqdm(range(5)):\n",
    "\n",
    "    model.train()\n",
    "    total_loss = 0\n",
    "    for X_batch, y_batch in train_loader:\n",
    "        X_batch, y_batch = X_batch.to(device=device), y_batch.to(device=device)\n",
    "        optimizer.zero_grad()\n",
    "        train_logits = model(X_batch)\n",
    "        loss = criterion(train_logits, y_batch)\n",
    "        loss.backward()\n",
    "        optimizer.step()\n",
    "        total_loss +=  loss.item()\n",
    "\n",
    "    lossi.append(total_loss / len(train_loader))\n",
    "\n",
    "    #dev step \n",
    "    with torch.no_grad():\n",
    "        model.eval()\n",
    "        dev_logits =  model(X_dev)\n",
    "        devloss = criterion(dev_logits, y_dev)\n",
    "        devlossi.append(devloss.item())\n",
    "    \n",
    "\n",
    "\n",
    "plt.plot(lossi);\n",
    "plt.plot(devlossi);\n",
    "plt.show()"
   ]
  },
  {
   "cell_type": "code",
   "execution_count": 12,
   "id": "28a44822",
   "metadata": {},
   "outputs": [
    {
     "data": {
      "text/plain": [
       "(torch.Size([18, 1, 512]), torch.Size([18, 512]))"
      ]
     },
     "execution_count": 12,
     "metadata": {},
     "output_type": "execute_result"
    }
   ],
   "source": [
    "# (train_logits, y_batch)\n",
    "train_logits.shape, y_batch.shape"
   ]
  },
  {
   "cell_type": "code",
   "execution_count": 13,
   "id": "acb6dfcb",
   "metadata": {},
   "outputs": [
    {
     "data": {
      "text/plain": [
       "torch.Size([18, 512])"
      ]
     },
     "execution_count": 13,
     "metadata": {},
     "output_type": "execute_result"
    }
   ],
   "source": [
    "train_logits.squeeze().sigmoid().shape"
   ]
  },
  {
   "cell_type": "code",
   "execution_count": 14,
   "id": "55787750",
   "metadata": {},
   "outputs": [
    {
     "data": {
      "text/plain": [
       "tensor(0.4180)"
      ]
     },
     "execution_count": 14,
     "metadata": {},
     "output_type": "execute_result"
    }
   ],
   "source": [
    "\n",
    "from torchmetrics.classification import BinaryF1Score\n",
    "f1 = BinaryF1Score()\n",
    "f1(train_logits.squeeze().cpu(), y_batch.cpu())"
   ]
  },
  {
   "cell_type": "code",
   "execution_count": 15,
   "id": "27ea68c6",
   "metadata": {},
   "outputs": [],
   "source": [
    "f1.reset()"
   ]
  },
  {
   "cell_type": "markdown",
   "id": "866d6dd0",
   "metadata": {},
   "source": [
    "6. Eval"
   ]
  },
  {
   "cell_type": "code",
   "execution_count": 16,
   "id": "85cb7da2",
   "metadata": {},
   "outputs": [],
   "source": [
    "X_dev_cpu = X_dev.cpu()\n",
    "y_dev_cpu = y_dev.cpu()\n",
    "dev_logits_cpu = (dev_logits.cpu() > 0.5).float()"
   ]
  },
  {
   "cell_type": "code",
   "execution_count": 27,
   "id": "52d6d098",
   "metadata": {},
   "outputs": [
    {
     "data": {
      "image/png": "[encoded data removed]",
      "text/plain": [
       "<Figure size 640x480 with 1 Axes>"
      ]
     },
     "metadata": {},
     "output_type": "display_data"
    }
   ],
   "source": [
    "idx = 13\n",
    "\n",
    "plt.plot(X_dev_cpu[idx,0], c='black')\n",
    "plt.plot(X_dev_cpu[idx,1], c='black')\n",
    "plt.plot(X_dev_cpu[idx,2], c='black')\n",
    "# plt.plot(X_dev_cpu[idx,3], c='black')\n",
    "# plt.plot(X_dev_cpu[idx,4], c='black')\n",
    "# plt.plot(X_dev_cpu[idx,5], c='black')\n",
    "plt.plot(y_dev_cpu[idx] * 10, label='ground truth', color='red')\n",
    "plt.plot(dev_logits_cpu[idx].squeeze() * 10, label='pred', alpha=0.85)\n",
    "\n",
    "plt.legend()\n",
    "plt.tight_layout()\n",
    "plt.show()\n"
   ]
  }
 ],
 "metadata": {
  "kernelspec": {
   "display_name": "base",
   "language": "python",
   "name": "python3"
  },
  "language_info": {
   "codemirror_mode": {
    "name": "ipython",
    "version": 3
   },
   "file_extension": ".py",
   "mimetype": "text/x-python",
   "name": "python",
   "nbconvert_exporter": "python",
   "pygments_lexer": "ipython3",
   "version": "3.10.12"
  }
 },
 "nbformat": 4,
 "nbformat_minor": 5
}
