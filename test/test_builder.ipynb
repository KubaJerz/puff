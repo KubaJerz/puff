{
 "cells": [
  {
   "cell_type": "code",
   "execution_count": 1,
   "id": "dcb7c05f",
   "metadata": {},
   "outputs": [],
   "source": [
    "import sys\n",
    "\n",
    "sys.path.insert(1, '/home/kuba/projects/puff/paper00/src/train_scripts')\n",
    "from experiment_builder import ExperimentBuilder\n",
    "from expt_runner import Expt_Runner"
   ]
  },
  {
   "cell_type": "code",
   "execution_count": 2,
   "id": "8f9cb997",
   "metadata": {},
   "outputs": [],
   "source": [
    "expt_builder = ExperimentBuilder(toml_file_path='/home/kuba/projects/puff/test/test_expt.toml')"
   ]
  },
  {
   "cell_type": "code",
   "execution_count": null,
   "id": "d0ab816d",
   "metadata": {},
   "outputs": [],
   "source": [
    "expt_builder.build_experiment_runs()"
   ]
  },
  {
   "cell_type": "code",
   "execution_count": 4,
   "id": "a9d9567f",
   "metadata": {},
   "outputs": [
    {
     "name": "stdout",
     "output_type": "stream",
     "text": [
      "Number of GPUs available: 2\n"
     ]
    }
   ],
   "source": [
    "runner = Expt_Runner(expt_dir=expt_builder.get_experiment_dir(), sub_runs_list=expt_builder.get_sub_runs_list(), run_on_gpu=expt_builder.get_run_on_gpu())"
   ]
  },
  {
   "cell_type": "code",
   "execution_count": 5,
   "id": "9605d449",
   "metadata": {},
   "outputs": [
    {
     "name": "stderr",
     "output_type": "stream",
     "text": [
      "Device:cuda:1 curr Loss: 0.4433, curr Dev Loss: 0.3735:  55%|█████▌    | 55/100 [00:10<00:06,  6.48it/s]"
     ]
    },
    {
     "name": "stdout",
     "output_type": "stream",
     "text": [
      "cuda:0 Early stopping at epoch 54\n"
     ]
    },
    {
     "name": "stderr",
     "output_type": "stream",
     "text": [
      "Device:cuda:0 curr Loss: 0.2739, curr Dev Loss: 0.3445:  53%|█████▎    | 53/100 [00:10<00:09,  4.85it/s]\n",
      "Device:cuda:1 curr Loss: 0.3495, curr Dev Loss: 0.3159:  73%|███████▎  | 73/100 [00:13<00:04,  6.06it/s]"
     ]
    },
    {
     "name": "stdout",
     "output_type": "stream",
     "text": [
      "cuda:1 Early stopping at epoch 74\n"
     ]
    },
    {
     "name": "stderr",
     "output_type": "stream",
     "text": [
      "Device:cuda:1 curr Loss: 0.3495, curr Dev Loss: 0.3159:  73%|███████▎  | 73/100 [00:14<00:05,  5.17it/s]\n",
      "Device:cuda:0 curr Loss: 0.8204, curr Dev Loss: 0.8092:  35%|███▌      | 35/100 [00:07<00:09,  6.69it/s]"
     ]
    },
    {
     "name": "stdout",
     "output_type": "stream",
     "text": [
      "cuda:0 Early stopping at epoch 36\n"
     ]
    },
    {
     "name": "stderr",
     "output_type": "stream",
     "text": [
      "Device:cuda:0 curr Loss: 0.8204, curr Dev Loss: 0.8092:  35%|███▌      | 35/100 [00:07<00:14,  4.45it/s]\n",
      "Device:cuda:1 curr Loss: 0.2812, curr Dev Loss: 0.2703:  84%|████████▍ | 84/100 [00:15<00:02,  6.50it/s]"
     ]
    },
    {
     "name": "stdout",
     "output_type": "stream",
     "text": [
      "cuda:1 Early stopping at epoch 85\n"
     ]
    },
    {
     "name": "stderr",
     "output_type": "stream",
     "text": [
      "Device:cuda:1 curr Loss: 0.2812, curr Dev Loss: 0.2703:  84%|████████▍ | 84/100 [00:15<00:03,  5.28it/s]\n",
      "Device:cuda:0 curr Loss: 0.5320, curr Dev Loss: 0.3412:  89%|████████▉ | 89/100 [00:16<00:01,  7.30it/s]"
     ]
    },
    {
     "name": "stdout",
     "output_type": "stream",
     "text": [
      "cuda:0 Early stopping at epoch 90\n"
     ]
    },
    {
     "name": "stderr",
     "output_type": "stream",
     "text": [
      "Device:cuda:0 curr Loss: 0.5320, curr Dev Loss: 0.3412:  89%|████████▉ | 89/100 [00:16<00:02,  5.29it/s]\n"
     ]
    }
   ],
   "source": [
    "runner.run()"
   ]
  },
  {
   "cell_type": "code",
   "execution_count": 6,
   "id": "2ded206d",
   "metadata": {},
   "outputs": [
    {
     "data": {
      "text/plain": [
       "['loss', 'DiceBCELoss']"
      ]
     },
     "execution_count": 6,
     "metadata": {},
     "output_type": "execute_result"
    }
   ],
   "source": [
    "import os\n",
    "os.path.basename(\"/home/kuba/projects/puff/test/loss.DiceBCELoss\").rsplit('.')"
   ]
  },
  {
   "cell_type": "code",
   "execution_count": 7,
   "id": "6bca3dad",
   "metadata": {},
   "outputs": [
    {
     "name": "stdout",
     "output_type": "stream",
     "text": [
      "10\n",
      "8  2\n",
      "train: 6  dev: 2  test: 2\n"
     ]
    }
   ],
   "source": [
    "\n",
    "import torch\n",
    "full = torch.ones(10)\n",
    "print(len(full))\n",
    "\n",
    "train_full, test = full[:int(len(full) * .8)], full[int(len(full) * .8):]\n",
    "print(len(train_full), end='  '), print(len(test))\n",
    "\n",
    "train, dev = train_full[:int(len(train_full) * .75)], train_full[int(len(train_full) * .75):]\n",
    "print('train:',len(train), end='  ')\n",
    "print('dev:',len(dev), end='  ')\n",
    "print('test:', len(test))"
   ]
  }
 ],
 "metadata": {
  "kernelspec": {
   "display_name": "base",
   "language": "python",
   "name": "python3"
  },
  "language_info": {
   "codemirror_mode": {
    "name": "ipython",
    "version": 3
   },
   "file_extension": ".py",
   "mimetype": "text/x-python",
   "name": "python",
   "nbconvert_exporter": "python",
   "pygments_lexer": "ipython3",
   "version": "3.12.11"
  }
 },
 "nbformat": 4,
 "nbformat_minor": 5
}
